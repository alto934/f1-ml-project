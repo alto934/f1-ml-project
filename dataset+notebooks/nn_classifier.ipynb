{
 "cells": [
  {
   "cell_type": "code",
   "execution_count": 11,
   "metadata": {},
   "outputs": [
    {
     "name": "stderr",
     "output_type": "stream",
     "text": [
      "C:\\Users\\Akhil Jayadeep\\AppData\\Local\\Temp\\ipykernel_28700\\933162161.py:45: DeprecationWarning: KerasClassifier is deprecated, use Sci-Keras (https://github.com/adriangb/scikeras) instead. See https://www.adriangb.com/scikeras/stable/migration.html for help migrating.\n",
      "  model = tf.keras.wrappers.scikit_learn.KerasClassifier(build_fn=create_model, verbose=0)\n"
     ]
    },
    {
     "name": "stdout",
     "output_type": "stream",
     "text": [
      "Best score: 0.6991291642189026\n",
      "Best parameters: {'activation': 'linear', 'dropout_rate': 0.2, 'neurons': 64}\n",
      "14/14 [==============================] - 0s 1ms/step\n",
      "Accuracy: 0.77\n",
      "Confusion Matrix:\n",
      "[[149  71]\n",
      " [ 29 191]]\n",
      "Classification Report:\n",
      "              precision    recall  f1-score   support\n",
      "\n",
      "           0       0.84      0.68      0.75       220\n",
      "           1       0.73      0.87      0.79       220\n",
      "\n",
      "    accuracy                           0.77       440\n",
      "   macro avg       0.78      0.77      0.77       440\n",
      "weighted avg       0.78      0.77      0.77       440\n",
      "\n"
     ]
    }
   ],
   "source": [
    "import pandas as pd\n",
    "import numpy as np\n",
    "from sklearn.model_selection import GridSearchCV\n",
    "from sklearn.metrics import accuracy_score, confusion_matrix, classification_report\n",
    "import tensorflow as tf\n",
    "from tensorflow.keras.models import Sequential\n",
    "from tensorflow.keras.layers import Dense, Dropout\n",
    "\n",
    "\n",
    "data = pd.read_csv('merge8.csv')\n",
    "\n",
    "train_data = data[data['year'] < 2021]\n",
    "test_data = data[data['year'] == 2021]\n",
    "\n",
    "\n",
    "features = ['year', 'round', 'weather_warm', 'weather_cold', 'weather_dry', 'weather_wet', 'weather_cloudy', 'cum_wins', 'grid', 'driver_age', 'home_race', 'points_before_race']\n",
    "target = 'in_top_ten'\n",
    "\n",
    "X_train = train_data[features].values\n",
    "y_train = train_data[target].values\n",
    "X_test = test_data[features].values\n",
    "y_test = test_data[target].values\n",
    "\n",
    "# NN definition\n",
    "def create_model(neurons=64, dropout_rate=0.2, activation='relu'):\n",
    "    model = Sequential()\n",
    "    model.add(Dense(neurons, input_dim=X_train.shape[1], activation=activation))\n",
    "    model.add(Dropout(dropout_rate))\n",
    "    model.add(Dense(neurons, activation=activation))\n",
    "    model.add(Dropout(dropout_rate))\n",
    "    model.add(Dense(1, activation='sigmoid'))\n",
    "    model.compile(loss='binary_crossentropy', optimizer='adam', metrics=['accuracy'])\n",
    "    return model\n",
    "\n",
    "# parameter grid for GridSearchCV\n",
    "param_grid = {\n",
    "    'neurons': [32, 64, 128],\n",
    "    'dropout_rate': [0.1, 0.2, 0.3],\n",
    "    'activation': ['relu', 'tanh','linear']\n",
    "}\n",
    "\n",
    "# GridSearchCV \n",
    "model = tf.keras.wrappers.scikit_learn.KerasClassifier(build_fn=create_model, verbose=0)\n",
    "grid = GridSearchCV(estimator=model, param_grid=param_grid, cv=3, n_jobs=-1)\n",
    "\n",
    "# Fit the GridSearchCV object to the data\n",
    "grid_result = grid.fit(X_train, y_train)\n",
    "\n",
    "best_params = grid_result.best_params_\n",
    "best_score = grid_result.best_score_\n",
    "\n",
    "print(f'Best score: {best_score}')\n",
    "print(f'Best parameters: {best_params}')\n",
    "\n",
    "\n",
    "model = create_model(neurons=best_params['neurons'], dropout_rate=best_params['dropout_rate'], activation=best_params['activation'])\n",
    "model.fit(X_train, y_train, epochs=100, batch_size=32, verbose=0)\n",
    "\n",
    "y_pred = model.predict(X_test)\n",
    "y_pred_rounded = np.round(y_pred)\n",
    "\n",
    "# Model Evaluation\n",
    "accuracy = accuracy_score(y_test, y_pred_rounded)\n",
    "cm = confusion_matrix(y_test, y_pred_rounded)\n",
    "report = classification_report(y_test, y_pred_rounded)\n",
    "\n",
    "print(f\"Accuracy: {accuracy:.2f}\")\n",
    "print(\"Confusion Matrix:\")\n",
    "print(cm)\n",
    "print(\"Classification Report:\")\n",
    "print(report)"
   ]
  },
  {
   "cell_type": "code",
   "execution_count": 12,
   "metadata": {},
   "outputs": [
    {
     "data": {
      "text/plain": [
       "<AxesSubplot: >"
      ]
     },
     "execution_count": 12,
     "metadata": {},
     "output_type": "execute_result"
    },
    {
     "data": {
      "image/png": "[encoded data removed]",
      "text/plain": [
       "<Figure size 800x600 with 2 Axes>"
      ]
     },
     "metadata": {},
     "output_type": "display_data"
    }
   ],
   "source": [
    "import seaborn as sns\n",
    "import matplotlib.pyplot as plt\n",
    "# Create heatmap of confusion matrix\n",
    "fig, ax = plt.subplots(figsize=(8,6))\n",
    "sns.heatmap(cm, cmap='Blues', annot=True, fmt='g', ax=ax)"
   ]
  }
 ],
 "metadata": {
  "language_info": {
   "name": "python"
  },
  "orig_nbformat": 4
 },
 "nbformat": 4,
 "nbformat_minor": 2
}
